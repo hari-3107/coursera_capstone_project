{
    "nbformat_minor": 1, 
    "cells": [
        {
            "execution_count": 154, 
            "cell_type": "code", 
            "metadata": {}, 
            "outputs": [], 
            "source": "# The code was removed by Watson Studio for sharing."
        }, 
        {
            "execution_count": 155, 
            "cell_type": "code", 
            "metadata": {}, 
            "outputs": [], 
            "source": "data = df_data_1[['Loan Status','Current Loan Amount','Term','Credit Score','Annual Income','Years in current job','Monthly Debt','Years of Credit History','Number of Open Accounts','Number of Credit Problems','Current Credit Balance','Maximum Open Credit']]"
        }, 
        {
            "source": "### remove rows having attribute value NaN", 
            "cell_type": "markdown", 
            "metadata": {}
        }, 
        {
            "execution_count": 156, 
            "cell_type": "code", 
            "metadata": {}, 
            "outputs": [], 
            "source": "data = data.dropna()"
        }, 
        {
            "source": "### changing loan status fully paid,charged off to 0,1", 
            "cell_type": "markdown", 
            "metadata": {}
        }, 
        {
            "execution_count": 165, 
            "cell_type": "code", 
            "metadata": {}, 
            "outputs": [], 
            "source": "data=data.replace('Fully Paid', 1)\ndata=data.replace('Charged Off', 0)\n"
        }, 
        {
            "source": "### changing term{'short term','long term'} with 1 and 0.5 ", 
            "cell_type": "markdown", 
            "metadata": {}
        }, 
        {
            "execution_count": 160, 
            "cell_type": "code", 
            "metadata": {}, 
            "outputs": [], 
            "source": "data=data.replace('Short Term', 0.5)\ndata=data.replace('Long Term', 1)\ndata= data.replace('1 years', 1)\ndata= data.replace('1 year', 1)\ndata= data.replace('< 1 year', 0.9)\ndata= data.replace('2 years', 2)\ndata= data.replace('2 year', 2)\ndata= data.replace('3 years', 3)\ndata= data.replace('3 year', 3)\ndata= data.replace('4 years', 4)\ndata= data.replace('4 year', 4)\ndata= data.replace('5 years', 5)\ndata= data.replace('5 year', 5)\ndata= data.replace('6 years', 6)\ndata= data.replace('6 year', 6)\ndata= data.replace('7 years', 7)\ndata= data.replace('7 year', 7)\ndata= data.replace('8 years', 8)\ndata= data.replace('8 year', 8)\ndata= data.replace('9 years', 9)\ndata= data.replace('9 year', 9)\ndata= data.replace('10 years', 10)\ndata= data.replace('10 years', 10)\ndata= data.replace('10+ years', 11)\nsample=data[['Years in current job']]"
        }, 
        {
            "execution_count": 162, 
            "cell_type": "code", 
            "metadata": {}, 
            "outputs": [], 
            "source": "data.columns = data.columns.str.replace(' ', '')"
        }, 
        {
            "execution_count": 166, 
            "cell_type": "code", 
            "metadata": {}, 
            "outputs": [], 
            "source": "#data_pandas = pd.DataFrame(data) to display whole data\n#display(data_pandas)"
        }, 
        {
            "execution_count": 164, 
            "cell_type": "code", 
            "metadata": {}, 
            "outputs": [
                {
                    "execution_count": 164, 
                    "metadata": {}, 
                    "data": {
                        "text/plain": "11.0    25326\n2.0      7385\n3.0      6618\n0.9      6565\n5.0      5474\n1.0      5175\n4.0      4916\n6.0      4576\n7.0      4509\n8.0      3712\n9.0      3177\nName: Yearsincurrentjob, dtype: int64"
                    }, 
                    "output_type": "execute_result"
                }
            ], 
            "source": "data['Yearsincurrentjob'].value_counts()"
        }, 
        {
            "execution_count": 177, 
            "cell_type": "code", 
            "metadata": {}, 
            "outputs": [
                {
                    "execution_count": 177, 
                    "metadata": {}, 
                    "data": {
                        "text/html": "<div>\n<style scoped>\n    .dataframe tbody tr th:only-of-type {\n        vertical-align: middle;\n    }\n\n    .dataframe tbody tr th {\n        vertical-align: top;\n    }\n\n    .dataframe thead th {\n        text-align: right;\n    }\n</style>\n<table border=\"1\" class=\"dataframe\">\n  <thead>\n    <tr style=\"text-align: right;\">\n      <th></th>\n      <th>LoanStatus</th>\n      <th>CurrentLoanAmount</th>\n      <th>Term</th>\n      <th>CreditScore</th>\n      <th>AnnualIncome</th>\n      <th>Yearsincurrentjob</th>\n      <th>MonthlyDebt</th>\n      <th>YearsofCreditHistory</th>\n      <th>NumberofOpenAccounts</th>\n      <th>NumberofCreditProblems</th>\n      <th>CurrentCreditBalance</th>\n      <th>MaximumOpenCredit</th>\n    </tr>\n  </thead>\n  <tbody>\n    <tr>\n      <th>99994</th>\n      <td>1</td>\n      <td>210584.0</td>\n      <td>0.5</td>\n      <td>719.0</td>\n      <td>783389.0</td>\n      <td>1.0</td>\n      <td>3727.61</td>\n      <td>17.4</td>\n      <td>6.0</td>\n      <td>0.0</td>\n      <td>456.0</td>\n      <td>259160.0</td>\n    </tr>\n    <tr>\n      <th>99995</th>\n      <td>1</td>\n      <td>147070.0</td>\n      <td>0.5</td>\n      <td>725.0</td>\n      <td>475437.0</td>\n      <td>7.0</td>\n      <td>2202.86</td>\n      <td>22.3</td>\n      <td>5.0</td>\n      <td>0.0</td>\n      <td>47766.0</td>\n      <td>658548.0</td>\n    </tr>\n    <tr>\n      <th>99996</th>\n      <td>1</td>\n      <td>99999999.0</td>\n      <td>0.5</td>\n      <td>732.0</td>\n      <td>1289416.0</td>\n      <td>1.0</td>\n      <td>13109.05</td>\n      <td>9.4</td>\n      <td>22.0</td>\n      <td>0.0</td>\n      <td>153045.0</td>\n      <td>509234.0</td>\n    </tr>\n    <tr>\n      <th>99997</th>\n      <td>1</td>\n      <td>103136.0</td>\n      <td>0.5</td>\n      <td>742.0</td>\n      <td>1150545.0</td>\n      <td>6.0</td>\n      <td>7315.57</td>\n      <td>18.8</td>\n      <td>12.0</td>\n      <td>1.0</td>\n      <td>109554.0</td>\n      <td>537548.0</td>\n    </tr>\n    <tr>\n      <th>99998</th>\n      <td>1</td>\n      <td>530332.0</td>\n      <td>0.5</td>\n      <td>746.0</td>\n      <td>1717524.0</td>\n      <td>9.0</td>\n      <td>9890.07</td>\n      <td>15.0</td>\n      <td>8.0</td>\n      <td>0.0</td>\n      <td>404225.0</td>\n      <td>738254.0</td>\n    </tr>\n  </tbody>\n</table>\n</div>", 
                        "text/plain": "       LoanStatus  CurrentLoanAmount  Term  CreditScore  AnnualIncome  \\\n99994           1           210584.0   0.5        719.0      783389.0   \n99995           1           147070.0   0.5        725.0      475437.0   \n99996           1         99999999.0   0.5        732.0     1289416.0   \n99997           1           103136.0   0.5        742.0     1150545.0   \n99998           1           530332.0   0.5        746.0     1717524.0   \n\n       Yearsincurrentjob  MonthlyDebt  YearsofCreditHistory  \\\n99994                1.0      3727.61                  17.4   \n99995                7.0      2202.86                  22.3   \n99996                1.0     13109.05                   9.4   \n99997                6.0      7315.57                  18.8   \n99998                9.0      9890.07                  15.0   \n\n       NumberofOpenAccounts  NumberofCreditProblems  CurrentCreditBalance  \\\n99994                   6.0                     0.0                 456.0   \n99995                   5.0                     0.0               47766.0   \n99996                  22.0                     0.0              153045.0   \n99997                  12.0                     1.0              109554.0   \n99998                   8.0                     0.0              404225.0   \n\n       MaximumOpenCredit  \n99994           259160.0  \n99995           658548.0  \n99996           509234.0  \n99997           537548.0  \n99998           738254.0  "
                    }, 
                    "output_type": "execute_result"
                }
            ], 
            "source": "import numpy as np\nfrom sklearn import preprocessing\ndata.tail()\n"
        }, 
        {
            "execution_count": 178, 
            "cell_type": "code", 
            "metadata": {}, 
            "outputs": [
                {
                    "execution_count": 178, 
                    "metadata": {}, 
                    "data": {
                        "text/plain": "array([[  4.45412000e+05,   5.00000000e-01,   7.09000000e+02, ...,\n          1.00000000e+00,   2.28190000e+05,   4.16746000e+05],\n       [  9.99999990e+07,   5.00000000e-01,   7.41000000e+02, ...,\n          1.00000000e+00,   2.97996000e+05,   7.50090000e+05],\n       [  3.47666000e+05,   1.00000000e+00,   7.21000000e+02, ...,\n          0.00000000e+00,   2.56329000e+05,   3.86958000e+05],\n       ..., \n       [  9.99999990e+07,   5.00000000e-01,   7.32000000e+02, ...,\n          0.00000000e+00,   1.53045000e+05,   5.09234000e+05],\n       [  1.03136000e+05,   5.00000000e-01,   7.42000000e+02, ...,\n          1.00000000e+00,   1.09554000e+05,   5.37548000e+05],\n       [  5.30332000e+05,   5.00000000e-01,   7.46000000e+02, ...,\n          0.00000000e+00,   4.04225000e+05,   7.38254000e+05]])"
                    }, 
                    "output_type": "execute_result"
                }
            ], 
            "source": "X = data[['CurrentLoanAmount','Term','CreditScore','AnnualIncome','Yearsincurrentjob','MonthlyDebt','YearsofCreditHistory','NumberofOpenAccounts','NumberofCreditProblems','CurrentCreditBalance','MaximumOpenCredit']] .values  #.astype(float)\nX[0:99998]\n\n"
        }, 
        {
            "execution_count": 179, 
            "cell_type": "code", 
            "metadata": {}, 
            "outputs": [
                {
                    "execution_count": 179, 
                    "metadata": {}, 
                    "data": {
                        "text/plain": "array([1, 1, 1, ..., 1, 1, 1])"
                    }, 
                    "output_type": "execute_result"
                }
            ], 
            "source": "y = data['LoanStatus'].values\ny[0:99998]"
        }, 
        {
            "execution_count": 181, 
            "cell_type": "code", 
            "metadata": {}, 
            "outputs": [
                {
                    "execution_count": 181, 
                    "metadata": {}, 
                    "data": {
                        "text/plain": "array([[ -4.04453996e-01,  -6.40673747e-01,  -2.47442488e-01, ...,\n          1.73747878e+00,  -1.80280776e-01,  -4.60109191e-02],\n       [  2.45021607e+00,  -6.40673747e-01,  -2.25622218e-01, ...,\n          1.73747878e+00,   1.19023435e-03,   1.38832043e-03],\n       [ -4.07256806e-01,   1.56085684e+00,  -2.39259887e-01, ...,\n         -3.41744081e-01,  -1.07129288e-01,  -5.02465691e-02],\n       ..., \n       [  2.45021607e+00,  -6.40673747e-01,  -2.31759169e-01, ...,\n         -3.41744081e-01,  -3.75631307e-01,  -3.28597573e-02],\n       [ -4.14268562e-01,  -6.40673747e-01,  -2.24940334e-01, ...,\n          1.73747878e+00,  -4.88692587e-01,  -2.88336999e-02],\n       [ -4.02018964e-01,  -6.40673747e-01,  -2.22212801e-01, ...,\n         -3.41744081e-01,   2.77348215e-01,  -2.94677906e-04]])"
                    }, 
                    "output_type": "execute_result"
                }
            ], 
            "source": "x = preprocessing.StandardScaler().fit(X).transform(X.astype(float))\nX[0:99998]"
        }, 
        {
            "execution_count": 182, 
            "cell_type": "code", 
            "metadata": {}, 
            "outputs": [
                {
                    "output_type": "stream", 
                    "name": "stdout", 
                    "text": "Train set: (61946, 11) (61946,)\nTest set: (15487, 11) (15487,)\n"
                }
            ], 
            "source": "from sklearn.model_selection import train_test_split\nx_train, x_test, y_train, y_test = train_test_split( x, y, test_size=0.2, random_state=4)\nprint ('Train set:', x_train.shape,  y_train.shape)\nprint ('Test set:', x_test.shape,  y_test.shape)"
        }, 
        {
            "execution_count": 183, 
            "cell_type": "code", 
            "metadata": {}, 
            "outputs": [], 
            "source": "from sklearn.neighbors import KNeighborsClassifier"
        }, 
        {
            "execution_count": 213, 
            "cell_type": "code", 
            "metadata": {}, 
            "outputs": [
                {
                    "execution_count": 213, 
                    "metadata": {}, 
                    "data": {
                        "text/plain": "KNeighborsClassifier(algorithm='auto', leaf_size=30, metric='minkowski',\n           metric_params=None, n_jobs=1, n_neighbors=9, p=2,\n           weights='uniform')"
                    }, 
                    "output_type": "execute_result"
                }
            ], 
            "source": "k = 9\nneigh = KNeighborsClassifier(n_neighbors = k).fit(x_train,y_train)\nneigh"
        }, 
        {
            "execution_count": 214, 
            "cell_type": "code", 
            "metadata": {
                "scrolled": true
            }, 
            "outputs": [
                {
                    "execution_count": 214, 
                    "metadata": {}, 
                    "data": {
                        "text/plain": "array([1, 1, 1, 1, 1, 1, 1, 1, 1, 1, 1, 1, 1, 1, 1, 1, 1, 1, 1, 1, 1, 1, 1,\n       1, 1, 1, 1, 1, 1, 1, 1, 1, 1, 1, 1, 1, 1, 1, 1, 0, 1, 1, 1, 1, 1, 1,\n       1, 1, 1, 1, 1, 1, 1, 1, 1, 1, 1, 1, 1, 1, 1, 1, 1, 1, 1, 1, 1, 1, 1,\n       1, 1, 0, 1, 1, 1, 1, 1, 1, 1, 1, 0, 1, 1, 1, 0, 1, 1, 1, 1, 1, 1, 1,\n       1, 1, 1, 1, 1, 1, 1, 1, 1, 1, 1, 1, 0, 1, 1, 1, 1, 1, 1, 1, 1, 1, 1,\n       1, 1, 1, 1, 1, 1, 1, 1, 1, 1, 1, 1, 1, 0, 1, 1, 1, 1, 1, 1, 0, 1, 1,\n       1, 1, 1, 1, 0, 0, 1, 1, 1, 1, 1, 1, 1, 1, 1, 1, 1, 1, 1, 1, 1, 1, 0,\n       1, 1, 1, 1, 1, 1, 1, 1, 1, 1, 1, 1, 1, 1, 1, 1, 1, 1, 1, 1, 1, 0, 1,\n       0, 1, 1, 0, 1, 1, 1, 1, 1, 1, 1, 1, 1, 1, 1, 1, 1, 1, 1, 1, 1, 0, 1,\n       1, 0, 1, 1, 1, 1, 1, 1, 1, 1, 1, 1, 1, 1, 1, 1, 1, 1, 1, 1, 1, 1, 1,\n       0, 1, 1, 1, 1, 1, 1, 1, 1, 1, 1, 1, 1, 1, 0, 1, 1, 1, 1, 1, 1, 1, 1,\n       1, 1, 1, 1, 1, 1, 1, 1, 1, 1, 1, 1, 1, 1, 1, 1, 1, 1, 1, 1, 0, 1, 1,\n       1, 1, 1, 1, 1, 1, 1, 1, 1, 1, 1, 1, 1, 1, 1, 1, 1, 1, 1, 1, 1, 1, 1,\n       1, 1, 1, 1, 1, 1, 1, 1, 1, 1, 1, 1, 1, 1, 1, 1, 1, 1, 1, 1, 0, 1, 1,\n       1, 0, 1, 1, 1, 1, 1, 0, 1, 1, 1, 1, 1, 1, 1, 1, 1, 1, 1, 1, 1, 1, 1,\n       1, 1, 1, 1, 1, 1, 1, 1, 1, 1, 1, 1, 1, 1, 1, 1, 1, 1, 1, 1, 1, 1, 1,\n       1, 1, 1, 1, 1, 0, 1, 1, 1, 1, 1, 1, 0, 1, 0, 1, 1, 1, 1, 1, 1, 1, 0,\n       0, 1, 1, 1, 0, 1, 1, 1, 1, 1, 1, 1, 0, 1, 1, 1, 1, 1, 1, 1, 1, 1, 1,\n       1, 1, 1, 1, 1, 1, 1, 1, 1, 1, 1, 1, 1, 1, 1, 1, 1, 1, 1, 1, 1, 1, 1,\n       1, 1, 1, 1, 1, 1, 1, 1, 1, 1, 1, 1, 1, 1, 1, 1, 1, 1, 1, 1, 1, 1, 1,\n       1, 0, 1, 1, 1, 1, 1, 1, 1, 1, 1, 0, 1, 1, 1, 1, 1, 1, 1, 1, 1, 1, 1,\n       1, 1, 1, 1, 1, 1, 1, 1, 1, 1, 1, 1, 1, 1, 1, 1, 1, 1, 1, 1, 1, 1, 1,\n       1, 1, 1, 1, 1, 1, 1, 1, 1, 1, 1, 1, 1, 1, 0, 1, 1, 1, 1, 1, 1, 1, 1,\n       1, 1, 1, 1, 1, 1, 1, 1, 1, 1, 1, 1, 1, 1, 1, 1, 1, 1, 1, 1, 1, 1, 1,\n       1, 1, 1, 1, 1, 1, 1, 1, 1, 1, 1, 1, 1, 1, 1, 1, 1, 1, 1, 1, 1, 1, 1,\n       1, 0, 1, 0, 1, 1, 1, 1, 1, 1, 1, 1, 1, 0, 1, 1, 1, 1, 1, 1, 1, 1, 1,\n       1, 1, 1, 1, 1, 1, 1, 0, 1, 1, 1, 0, 1, 1, 0, 1, 1, 1, 0, 1, 1, 1, 1,\n       1, 1, 1, 1, 1, 0, 1, 1, 1, 1, 1, 1, 1, 1, 1, 1, 1, 1, 1, 1, 1, 1, 1,\n       1, 1, 1, 1, 1, 1, 1, 1, 0, 0, 1, 1, 1, 1, 1, 1, 1, 1, 1, 1, 1, 1, 1,\n       1, 1, 1, 1, 1, 1, 1, 1, 1, 0, 1, 1, 1, 1, 1, 1, 1, 1, 1, 1, 1, 1, 1,\n       1, 1, 1, 1, 1, 1, 1, 1, 1, 1, 1, 1, 1, 1, 1, 1, 1, 1, 1, 1, 1, 1, 1,\n       0, 1, 1, 1, 1, 1, 1, 1, 1, 1, 1, 1, 1, 0, 1, 1, 1, 1, 1, 1, 1, 1, 1,\n       1, 1, 1, 0, 0, 1, 1, 1, 1, 1, 1, 1, 1, 1, 1, 1, 1, 1, 1, 1, 1, 1, 1,\n       1, 1, 1, 1, 1, 1, 1, 1, 1, 1, 1, 1, 1, 1, 1, 1, 1, 1, 1, 0, 1, 1, 1,\n       1, 1, 1, 1, 1, 1, 1, 1, 1, 1, 1, 1, 1, 1, 1, 1, 1, 1, 1, 1, 1, 1, 1,\n       1, 1, 1, 1, 1, 1, 1, 1, 1, 1, 1, 0, 1, 1, 1, 1, 1, 1, 1, 1, 1, 1, 1,\n       1, 1, 1, 1, 1, 1, 1, 1, 1, 1, 1, 1, 1, 1, 1, 1, 1, 1, 0, 1, 1, 1, 1,\n       1, 1, 1, 1, 1, 1, 1, 1, 1, 1, 1, 1, 1, 1, 1, 1, 0, 1, 1, 1, 1, 1, 1,\n       1, 1, 1, 1, 1, 1, 1, 1, 1, 1, 1, 0, 0, 1, 1, 1, 1, 1, 1, 1, 1, 1, 1,\n       1, 1, 1, 1, 1, 0, 1, 1, 1, 1, 1, 1, 1, 1, 1, 1, 1, 1, 1, 1, 1, 1, 1,\n       1, 1, 1, 1, 0, 1, 1, 0, 1, 1, 1, 1, 0, 1, 1, 1, 0, 1, 1, 1, 1, 1, 1,\n       1, 1, 1, 1, 1, 1, 1, 1, 1, 1, 1, 1, 1, 1, 1, 1, 1, 1, 1, 1, 1, 1, 1,\n       1, 1, 1, 1, 0, 1, 1, 1, 1, 1, 1, 1, 1, 1, 1, 1, 1, 1, 1, 1, 1, 1, 1,\n       1, 1, 1, 1, 1, 1, 0, 1, 0, 1, 1])"
                    }, 
                    "output_type": "execute_result"
                }
            ], 
            "source": "yhat = neigh.predict(x_test)\nyhat[0:1000]"
        }, 
        {
            "execution_count": 215, 
            "cell_type": "code", 
            "metadata": {}, 
            "outputs": [
                {
                    "output_type": "stream", 
                    "name": "stdout", 
                    "text": "Train set Accuracy:  0.850611823201\nTest set Accuracy:  0.839478272099\n"
                }
            ], 
            "source": "from sklearn import metrics\nprint(\"Train set Accuracy: \", metrics.accuracy_score(y_train, neigh.predict(x_train)))\nprint(\"Test set Accuracy: \", metrics.accuracy_score(y_test, yhat))"
        }, 
        {
            "execution_count": 211, 
            "cell_type": "code", 
            "metadata": {}, 
            "outputs": [
                {
                    "execution_count": 211, 
                    "metadata": {}, 
                    "data": {
                        "text/plain": "array([ 0.79227739,  0.70497837,  0.80777426,  0.77845935,  0.82423968,\n        0.80596629,  0.8328921 ,  0.82462711,  0.83947827])"
                    }, 
                    "output_type": "execute_result"
                }
            ], 
            "source": "Ks = 10\nmean_acc = np.zeros((Ks-1))\nstd_acc = np.zeros((Ks-1))\nConfustionMx = [];\nfor n in range(1,Ks):\n    \n    #Train Model and Predict  \n    neigh = KNeighborsClassifier(n_neighbors = n).fit(x_train,y_train)\n    yhat=neigh.predict(x_test)\n    mean_acc[n-1] = metrics.accuracy_score(y_test, yhat)\n\n    \n    std_acc[n-1]=np.std(yhat==y_test)/np.sqrt(yhat.shape[0])\n\nmean_acc"
        }, 
        {
            "execution_count": 212, 
            "cell_type": "code", 
            "metadata": {}, 
            "outputs": [
                {
                    "output_type": "display_data", 
                    "data": {
                        "image/png": "[encoded data removed]", 
                        "text/plain": "<matplotlib.figure.Figure at 0x7f63adcb2e48>"
                    }, 
                    "metadata": {}
                }
            ], 
            "source": "plt.plot(range(1,Ks),mean_acc,'g')\nplt.fill_between(range(1,Ks),mean_acc - 1 * std_acc,mean_acc + 1 * std_acc, alpha=0.10)\nplt.legend(('Accuracy ', '+/- 3xstd'))\nplt.ylabel('Accuracy ')\nplt.xlabel('Number of Nabors (K)')\nplt.tight_layout()\nplt.show()"
        }
    ], 
    "metadata": {
        "kernelspec": {
            "display_name": "Python 3.5", 
            "name": "python3", 
            "language": "python"
        }, 
        "language_info": {
            "mimetype": "text/x-python", 
            "nbconvert_exporter": "python", 
            "version": "3.5.5", 
            "name": "python", 
            "file_extension": ".py", 
            "pygments_lexer": "ipython3", 
            "codemirror_mode": {
                "version": 3, 
                "name": "ipython"
            }
        }
    }, 
    "nbformat": 4
}