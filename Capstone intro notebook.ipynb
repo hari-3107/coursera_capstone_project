{
    "nbformat_minor": 1, 
    "cells": [
        {
            "execution_count": 79, 
            "cell_type": "code", 
            "metadata": {}, 
            "outputs": [], 
            "source": "# The code was removed by Watson Studio for sharing."
        }, 
        {
            "execution_count": 42, 
            "cell_type": "code", 
            "metadata": {}, 
            "outputs": [], 
            "source": "data = df_data_1[['Loan Status','Current Loan Amount','Term','Credit Score','Annual Income','Years in current job','Monthly Debt','Years of Credit History','Number of Open Accounts','Number of Credit Problems','Current Credit Balance','Maximum Open Credit']]"
        }, 
        {
            "source": "### remove rows having attribute value NaN", 
            "cell_type": "markdown", 
            "metadata": {}
        }, 
        {
            "execution_count": 61, 
            "cell_type": "code", 
            "metadata": {}, 
            "outputs": [], 
            "source": "data = data.dropna()"
        }, 
        {
            "source": "### changing loan status fully paid,charged off to 0,1", 
            "cell_type": "markdown", 
            "metadata": {}
        }, 
        {
            "execution_count": 80, 
            "cell_type": "code", 
            "metadata": {}, 
            "outputs": [
                {
                    "execution_count": 80, 
                    "metadata": {}, 
                    "data": {
                        "text/html": "<div>\n<style scoped>\n    .dataframe tbody tr th:only-of-type {\n        vertical-align: middle;\n    }\n\n    .dataframe tbody tr th {\n        vertical-align: top;\n    }\n\n    .dataframe thead th {\n        text-align: right;\n    }\n</style>\n<table border=\"1\" class=\"dataframe\">\n  <thead>\n    <tr style=\"text-align: right;\">\n      <th></th>\n      <th>Loan Status</th>\n      <th>Current Loan Amount</th>\n      <th>Term</th>\n      <th>Credit Score</th>\n      <th>Annual Income</th>\n      <th>Years in current job</th>\n      <th>Monthly Debt</th>\n      <th>Years of Credit History</th>\n      <th>Number of Open Accounts</th>\n      <th>Number of Credit Problems</th>\n      <th>Current Credit Balance</th>\n      <th>Maximum Open Credit</th>\n    </tr>\n  </thead>\n  <tbody>\n    <tr>\n      <th>0</th>\n      <td>1</td>\n      <td>445412.0</td>\n      <td>Short Term</td>\n      <td>709.0</td>\n      <td>1167493.0</td>\n      <td>8 years</td>\n      <td>5214.74</td>\n      <td>17.2</td>\n      <td>6.0</td>\n      <td>1.0</td>\n      <td>228190.0</td>\n      <td>416746.0</td>\n    </tr>\n    <tr>\n      <th>2</th>\n      <td>1</td>\n      <td>99999999.0</td>\n      <td>Short Term</td>\n      <td>741.0</td>\n      <td>2231892.0</td>\n      <td>8 years</td>\n      <td>29200.53</td>\n      <td>14.9</td>\n      <td>18.0</td>\n      <td>1.0</td>\n      <td>297996.0</td>\n      <td>750090.0</td>\n    </tr>\n    <tr>\n      <th>3</th>\n      <td>1</td>\n      <td>347666.0</td>\n      <td>Long Term</td>\n      <td>721.0</td>\n      <td>806949.0</td>\n      <td>3 years</td>\n      <td>8741.90</td>\n      <td>12.0</td>\n      <td>9.0</td>\n      <td>0.0</td>\n      <td>256329.0</td>\n      <td>386958.0</td>\n    </tr>\n    <tr>\n      <th>5</th>\n      <td>0</td>\n      <td>206602.0</td>\n      <td>Short Term</td>\n      <td>7290.0</td>\n      <td>896857.0</td>\n      <td>10+ years</td>\n      <td>16367.74</td>\n      <td>17.3</td>\n      <td>6.0</td>\n      <td>0.0</td>\n      <td>215308.0</td>\n      <td>272448.0</td>\n    </tr>\n    <tr>\n      <th>6</th>\n      <td>1</td>\n      <td>217646.0</td>\n      <td>Short Term</td>\n      <td>730.0</td>\n      <td>1184194.0</td>\n      <td>&lt; 1 year</td>\n      <td>10855.08</td>\n      <td>19.6</td>\n      <td>13.0</td>\n      <td>1.0</td>\n      <td>122170.0</td>\n      <td>272052.0</td>\n    </tr>\n  </tbody>\n</table>\n</div>", 
                        "text/plain": "   Loan Status  Current Loan Amount        Term  Credit Score  Annual Income  \\\n0            1             445412.0  Short Term         709.0      1167493.0   \n2            1           99999999.0  Short Term         741.0      2231892.0   \n3            1             347666.0   Long Term         721.0       806949.0   \n5            0             206602.0  Short Term        7290.0       896857.0   \n6            1             217646.0  Short Term         730.0      1184194.0   \n\n  Years in current job  Monthly Debt  Years of Credit History  \\\n0              8 years       5214.74                     17.2   \n2              8 years      29200.53                     14.9   \n3              3 years       8741.90                     12.0   \n5            10+ years      16367.74                     17.3   \n6             < 1 year      10855.08                     19.6   \n\n   Number of Open Accounts  Number of Credit Problems  Current Credit Balance  \\\n0                      6.0                        1.0                228190.0   \n2                     18.0                        1.0                297996.0   \n3                      9.0                        0.0                256329.0   \n5                      6.0                        0.0                215308.0   \n6                     13.0                        1.0                122170.0   \n\n   Maximum Open Credit  \n0             416746.0  \n2             750090.0  \n3             386958.0  \n5             272448.0  \n6             272052.0  "
                    }, 
                    "output_type": "execute_result"
                }
            ], 
            "source": "data=data.replace('Fully Paid', 1)\ndata=data.replace('Charged Off', 0)\ndata.head()"
        }, 
        {
            "source": "### changing term{'short term','long term'} with 1 and 0.5 ", 
            "cell_type": "markdown", 
            "metadata": {}
        }, 
        {
            "execution_count": 133, 
            "cell_type": "code", 
            "metadata": {}, 
            "outputs": [], 
            "source": "data=data.replace('Short Term', 0.5)\ndata=data.replace('Long Term', 1)\ndata= data.replace('1 years', 1)\ndata= data.replace('1 year', 1)\ndata= data.replace('< 1 year', 1)\ndata= data.replace('2 years', 2)\ndata= data.replace('2 year', 2)\ndata= data.replace('3 years', 3)\ndata= data.replace('3 year', 3)\ndata= data.replace('4 years', 4)\ndata= data.replace('4 year', 4)\ndata= data.replace('5 years', 5)\ndata= data.replace('5 year', 5)\ndata= data.replace('6 years', 6)\ndata= data.replace('6 year', 6)\ndata= data.replace('7 years', 7)\ndata= data.replace('7 year', 7)\ndata= data.replace('8 years', 8)\ndata= data.replace('8 year', 8)\ndata= data.replace('9 years', 9)\ndata= data.replace('9 year', 9)\ndata= data.replace('10 years', 10)\ndata= data.replace('10 years', 10)\ndata= data.replace('10+ years', 11)\nsample=data[['Years in current job']]"
        }, 
        {
            "execution_count": 139, 
            "cell_type": "code", 
            "metadata": {}, 
            "outputs": [
                {
                    "output_type": "stream", 
                    "name": "stdout", 
                    "text": "<class 'pandas.core.frame.DataFrame'>\nInt64Index: 77433 entries, 0 to 99998\nData columns (total 12 columns):\nLoan Status                  77433 non-null int64\nCurrent Loan Amount          77433 non-null float64\nTerm                         77433 non-null float64\nCredit Score                 77433 non-null float64\nAnnual Income                77433 non-null float64\nYears in current job         77433 non-null int64\nMonthly Debt                 77433 non-null float64\nYears of Credit History      77433 non-null float64\nNumber of Open Accounts      77433 non-null float64\nNumber of Credit Problems    77433 non-null float64\nCurrent Credit Balance       77433 non-null float64\nMaximum Open Credit          77433 non-null float64\ndtypes: float64(10), int64(2)\nmemory usage: 7.7 MB\n"
                }
            ], 
            "source": "data.info()"
        }, 
        {
            "execution_count": null, 
            "cell_type": "code", 
            "metadata": {}, 
            "outputs": [], 
            "source": ""
        }
    ], 
    "metadata": {
        "kernelspec": {
            "display_name": "Python 3.5", 
            "name": "python3", 
            "language": "python"
        }, 
        "language_info": {
            "mimetype": "text/x-python", 
            "nbconvert_exporter": "python", 
            "version": "3.5.5", 
            "name": "python", 
            "file_extension": ".py", 
            "pygments_lexer": "ipython3", 
            "codemirror_mode": {
                "version": 3, 
                "name": "ipython"
            }
        }
    }, 
    "nbformat": 4
}