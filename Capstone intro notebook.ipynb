{
    "nbformat_minor": 1, 
    "cells": [
        {
            "execution_count": 41, 
            "cell_type": "code", 
            "metadata": {}, 
            "outputs": [
                {
                    "output_type": "stream", 
                    "name": "stdout", 
                    "text": "<class 'pandas.core.frame.DataFrame'>\nRangeIndex: 100514 entries, 0 to 100513\nData columns (total 19 columns):\nLoan ID                         100000 non-null object\nCustomer ID                     100000 non-null object\nLoan Status                     100000 non-null object\nCurrent Loan Amount             100000 non-null float64\nTerm                            100000 non-null object\nCredit Score                    80846 non-null float64\nAnnual Income                   80846 non-null float64\nYears in current job            95778 non-null object\nHome Ownership                  100000 non-null object\nPurpose                         100000 non-null object\nMonthly Debt                    100000 non-null float64\nYears of Credit History         100000 non-null float64\nMonths since last delinquent    46859 non-null float64\nNumber of Open Accounts         100000 non-null float64\nNumber of Credit Problems       100000 non-null float64\nCurrent Credit Balance          100000 non-null float64\nMaximum Open Credit             99998 non-null float64\nBankruptcies                    99796 non-null float64\nTax Liens                       99990 non-null float64\ndtypes: float64(12), object(7)\nmemory usage: 14.6+ MB\n"
                }
            ], 
            "source": "# The code was removed by Watson Studio for sharing."
        }, 
        {
            "execution_count": 42, 
            "cell_type": "code", 
            "metadata": {}, 
            "outputs": [], 
            "source": "data = df_data_1[['Loan Status','Current Loan Amount','Term','Credit Score','Annual Income','Years in current job','Monthly Debt','Years of Credit History','Number of Open Accounts','Number of Credit Problems','Current Credit Balance','Maximum Open Credit']]"
        }, 
        {
            "execution_count": 44, 
            "cell_type": "code", 
            "metadata": {}, 
            "outputs": [
                {
                    "execution_count": 44, 
                    "metadata": {}, 
                    "data": {
                        "text/html": "<div>\n<style scoped>\n    .dataframe tbody tr th:only-of-type {\n        vertical-align: middle;\n    }\n\n    .dataframe tbody tr th {\n        vertical-align: top;\n    }\n\n    .dataframe thead th {\n        text-align: right;\n    }\n</style>\n<table border=\"1\" class=\"dataframe\">\n  <thead>\n    <tr style=\"text-align: right;\">\n      <th></th>\n      <th>Loan Status</th>\n      <th>Current Loan Amount</th>\n      <th>Term</th>\n      <th>Credit Score</th>\n      <th>Annual Income</th>\n      <th>Years in current job</th>\n      <th>Monthly Debt</th>\n      <th>Years of Credit History</th>\n      <th>Number of Open Accounts</th>\n      <th>Number of Credit Problems</th>\n      <th>Current Credit Balance</th>\n      <th>Maximum Open Credit</th>\n    </tr>\n  </thead>\n  <tbody>\n    <tr>\n      <th>0</th>\n      <td>Fully Paid</td>\n      <td>445412.0</td>\n      <td>Short Term</td>\n      <td>709.0</td>\n      <td>1167493.0</td>\n      <td>8 years</td>\n      <td>5214.74</td>\n      <td>17.2</td>\n      <td>6.0</td>\n      <td>1.0</td>\n      <td>228190.0</td>\n      <td>416746.0</td>\n    </tr>\n    <tr>\n      <th>1</th>\n      <td>Fully Paid</td>\n      <td>262328.0</td>\n      <td>Short Term</td>\n      <td>NaN</td>\n      <td>NaN</td>\n      <td>10+ years</td>\n      <td>33295.98</td>\n      <td>21.1</td>\n      <td>35.0</td>\n      <td>0.0</td>\n      <td>229976.0</td>\n      <td>850784.0</td>\n    </tr>\n    <tr>\n      <th>2</th>\n      <td>Fully Paid</td>\n      <td>99999999.0</td>\n      <td>Short Term</td>\n      <td>741.0</td>\n      <td>2231892.0</td>\n      <td>8 years</td>\n      <td>29200.53</td>\n      <td>14.9</td>\n      <td>18.0</td>\n      <td>1.0</td>\n      <td>297996.0</td>\n      <td>750090.0</td>\n    </tr>\n    <tr>\n      <th>3</th>\n      <td>Fully Paid</td>\n      <td>347666.0</td>\n      <td>Long Term</td>\n      <td>721.0</td>\n      <td>806949.0</td>\n      <td>3 years</td>\n      <td>8741.90</td>\n      <td>12.0</td>\n      <td>9.0</td>\n      <td>0.0</td>\n      <td>256329.0</td>\n      <td>386958.0</td>\n    </tr>\n    <tr>\n      <th>4</th>\n      <td>Fully Paid</td>\n      <td>176220.0</td>\n      <td>Short Term</td>\n      <td>NaN</td>\n      <td>NaN</td>\n      <td>5 years</td>\n      <td>20639.70</td>\n      <td>6.1</td>\n      <td>15.0</td>\n      <td>0.0</td>\n      <td>253460.0</td>\n      <td>427174.0</td>\n    </tr>\n    <tr>\n      <th>5</th>\n      <td>Charged Off</td>\n      <td>206602.0</td>\n      <td>Short Term</td>\n      <td>7290.0</td>\n      <td>896857.0</td>\n      <td>10+ years</td>\n      <td>16367.74</td>\n      <td>17.3</td>\n      <td>6.0</td>\n      <td>0.0</td>\n      <td>215308.0</td>\n      <td>272448.0</td>\n    </tr>\n    <tr>\n      <th>6</th>\n      <td>Fully Paid</td>\n      <td>217646.0</td>\n      <td>Short Term</td>\n      <td>730.0</td>\n      <td>1184194.0</td>\n      <td>&lt; 1 year</td>\n      <td>10855.08</td>\n      <td>19.6</td>\n      <td>13.0</td>\n      <td>1.0</td>\n      <td>122170.0</td>\n      <td>272052.0</td>\n    </tr>\n    <tr>\n      <th>7</th>\n      <td>Charged Off</td>\n      <td>648714.0</td>\n      <td>Long Term</td>\n      <td>NaN</td>\n      <td>NaN</td>\n      <td>&lt; 1 year</td>\n      <td>14806.13</td>\n      <td>8.2</td>\n      <td>15.0</td>\n      <td>0.0</td>\n      <td>193306.0</td>\n      <td>864204.0</td>\n    </tr>\n    <tr>\n      <th>8</th>\n      <td>Fully Paid</td>\n      <td>548746.0</td>\n      <td>Short Term</td>\n      <td>678.0</td>\n      <td>2559110.0</td>\n      <td>2 years</td>\n      <td>18660.28</td>\n      <td>22.6</td>\n      <td>4.0</td>\n      <td>0.0</td>\n      <td>437171.0</td>\n      <td>555038.0</td>\n    </tr>\n    <tr>\n      <th>9</th>\n      <td>Fully Paid</td>\n      <td>215952.0</td>\n      <td>Short Term</td>\n      <td>739.0</td>\n      <td>1454735.0</td>\n      <td>&lt; 1 year</td>\n      <td>39277.75</td>\n      <td>13.9</td>\n      <td>20.0</td>\n      <td>0.0</td>\n      <td>669560.0</td>\n      <td>1021460.0</td>\n    </tr>\n  </tbody>\n</table>\n</div>", 
                        "text/plain": "   Loan Status  Current Loan Amount        Term  Credit Score  Annual Income  \\\n0   Fully Paid             445412.0  Short Term         709.0      1167493.0   \n1   Fully Paid             262328.0  Short Term           NaN            NaN   \n2   Fully Paid           99999999.0  Short Term         741.0      2231892.0   \n3   Fully Paid             347666.0   Long Term         721.0       806949.0   \n4   Fully Paid             176220.0  Short Term           NaN            NaN   \n5  Charged Off             206602.0  Short Term        7290.0       896857.0   \n6   Fully Paid             217646.0  Short Term         730.0      1184194.0   \n7  Charged Off             648714.0   Long Term           NaN            NaN   \n8   Fully Paid             548746.0  Short Term         678.0      2559110.0   \n9   Fully Paid             215952.0  Short Term         739.0      1454735.0   \n\n  Years in current job  Monthly Debt  Years of Credit History  \\\n0              8 years       5214.74                     17.2   \n1            10+ years      33295.98                     21.1   \n2              8 years      29200.53                     14.9   \n3              3 years       8741.90                     12.0   \n4              5 years      20639.70                      6.1   \n5            10+ years      16367.74                     17.3   \n6             < 1 year      10855.08                     19.6   \n7             < 1 year      14806.13                      8.2   \n8              2 years      18660.28                     22.6   \n9             < 1 year      39277.75                     13.9   \n\n   Number of Open Accounts  Number of Credit Problems  Current Credit Balance  \\\n0                      6.0                        1.0                228190.0   \n1                     35.0                        0.0                229976.0   \n2                     18.0                        1.0                297996.0   \n3                      9.0                        0.0                256329.0   \n4                     15.0                        0.0                253460.0   \n5                      6.0                        0.0                215308.0   \n6                     13.0                        1.0                122170.0   \n7                     15.0                        0.0                193306.0   \n8                      4.0                        0.0                437171.0   \n9                     20.0                        0.0                669560.0   \n\n   Maximum Open Credit  \n0             416746.0  \n1             850784.0  \n2             750090.0  \n3             386958.0  \n4             427174.0  \n5             272448.0  \n6             272052.0  \n7             864204.0  \n8             555038.0  \n9            1021460.0  "
                    }, 
                    "output_type": "execute_result"
                }
            ], 
            "source": "data.head(10)"
        }
    ], 
    "metadata": {
        "kernelspec": {
            "display_name": "Python 3.5", 
            "name": "python3", 
            "language": "python"
        }, 
        "language_info": {
            "mimetype": "text/x-python", 
            "nbconvert_exporter": "python", 
            "version": "3.5.5", 
            "name": "python", 
            "file_extension": ".py", 
            "pygments_lexer": "ipython3", 
            "codemirror_mode": {
                "version": 3, 
                "name": "ipython"
            }
        }
    }, 
    "nbformat": 4
}