{
    "nbformat_minor": 1, 
    "cells": [
        {
            "execution_count": 6, 
            "cell_type": "code", 
            "metadata": {}, 
            "outputs": [], 
            "source": "# The code was removed by Watson Studio for sharing."
        }, 
        {
            "execution_count": 3, 
            "cell_type": "code", 
            "metadata": {}, 
            "outputs": [], 
            "source": "data = df_data_1[['Loan Status','Current Loan Amount','Term','Credit Score','Annual Income','Years in current job','Monthly Debt','Years of Credit History','Number of Open Accounts','Number of Credit Problems','Current Credit Balance','Maximum Open Credit']]\ndata = data.dropna()"
        }, 
        {
            "execution_count": 4, 
            "cell_type": "code", 
            "metadata": {}, 
            "outputs": [], 
            "source": "data.columns = data.columns.str.replace(' ', '')"
        }, 
        {
            "execution_count": 5, 
            "cell_type": "code", 
            "metadata": {}, 
            "outputs": [], 
            "source": "data=data.replace('Fully Paid', 1)\ndata=data.replace('Charged Off', 0)"
        }, 
        {
            "execution_count": 18, 
            "cell_type": "code", 
            "metadata": {}, 
            "outputs": [], 
            "source": "data=data.replace('ShortTerm', 0.5)\ndata=data.replace('LongTerm', 1)\ndata= data.replace('1 years', 1)\ndata= data.replace('1 year', 1)\ndata= data.replace('< 1 year', 0.9)\ndata= data.replace('2 years', 2)\ndata= data.replace('2 year', 2)\ndata= data.replace('3 years', 3)\ndata= data.replace('3 year', 3)\ndata= data.replace('4 years', 4)\ndata= data.replace('4 year', 4)\ndata= data.replace('5 years', 5)\ndata= data.replace('5 year', 5)\ndata= data.replace('6 years', 6)\ndata= data.replace('6 year', 6)\ndata= data.replace('7 years', 7)\ndata= data.replace('7 year', 7)\ndata= data.replace('8 years', 8)\ndata= data.replace('8 year', 8)\ndata= data.replace('9 years', 9)\ndata= data.replace('9 year', 9)\ndata= data.replace('10 year', 10)\ndata= data.replace('10 years', 10)\ndata= data.replace('10+ years', 11)"
        }, 
        {
            "execution_count": 19, 
            "cell_type": "code", 
            "metadata": {}, 
            "outputs": [], 
            "source": "import numpy as np\nfrom sklearn import preprocessing\nfrom sklearn.cross_validation import train_test_split"
        }, 
        {
            "execution_count": 24, 
            "cell_type": "code", 
            "metadata": {}, 
            "outputs": [], 
            "source": "x = data[['CurrentLoanAmount','Term','CreditScore','AnnualIncome','Yearsincurrentjob','MonthlyDebt','YearsofCreditHistory','NumberofOpenAccounts','NumberofCreditProblems','CurrentCreditBalance','MaximumOpenCredit']] .values"
        }, 
        {
            "execution_count": 25, 
            "cell_type": "code", 
            "metadata": {}, 
            "outputs": [], 
            "source": "y = data['LoanStatus'].values"
        }, 
        {
            "execution_count": 26, 
            "cell_type": "code", 
            "metadata": {}, 
            "outputs": [
                {
                    "output_type": "stream", 
                    "name": "stdout", 
                    "text": "Train set: (61946, 11) (61946,)\nTest set: (15487, 11) (15487,)\n"
                }
            ], 
            "source": "x_train, x_test, y_train, y_test = train_test_split( x, y, test_size=0.2, random_state=4)\nprint ('Train set:', x_train.shape,  y_train.shape)\nprint ('Test set:', x_test.shape,  y_test.shape)\n"
        }, 
        {
            "execution_count": null, 
            "cell_type": "code", 
            "metadata": {}, 
            "outputs": [], 
            "source": "from sklearn import svm\nclf = svm.SVC(kernel='rbf')\nclf.fit(x_train, y_train) "
        }, 
        {
            "execution_count": null, 
            "cell_type": "code", 
            "metadata": {}, 
            "outputs": [], 
            "source": "yhat = clf.predict(X_test)\ny[0:5]"
        }, 
        {
            "execution_count": null, 
            "cell_type": "code", 
            "metadata": {}, 
            "outputs": [], 
            "source": "from sklearn.metrics import f1_score\nscore = f1_score(y_test, yhat, average='weighted') \nprint(score)"
        }, 
        {
            "execution_count": null, 
            "cell_type": "code", 
            "metadata": {}, 
            "outputs": [], 
            "source": "from sklearn.metrics import jaccard_similarity_score\njaccard_similarity_score(y_test, yhat)"
        }
    ], 
    "metadata": {
        "kernelspec": {
            "display_name": "Python 3.5 with Spark", 
            "name": "python3", 
            "language": "python3"
        }, 
        "language_info": {
            "mimetype": "text/x-python", 
            "nbconvert_exporter": "python", 
            "version": "3.5.4", 
            "name": "python", 
            "file_extension": ".py", 
            "pygments_lexer": "ipython3", 
            "codemirror_mode": {
                "version": 3, 
                "name": "ipython"
            }
        }
    }, 
    "nbformat": 4
}