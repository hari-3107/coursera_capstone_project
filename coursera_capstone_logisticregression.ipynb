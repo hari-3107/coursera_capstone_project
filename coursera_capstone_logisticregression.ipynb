{
    "nbformat_minor": 1, 
    "cells": [
        {
            "source": "## Implementation of logistic regression", 
            "cell_type": "markdown", 
            "metadata": {}
        }, 
        {
            "execution_count": 2, 
            "cell_type": "code", 
            "metadata": {}, 
            "outputs": [], 
            "source": "# The code was removed by Watson Studio for sharing."
        }, 
        {
            "execution_count": null, 
            "cell_type": "code", 
            "metadata": {}, 
            "outputs": [], 
            "source": "import numpy as np\nimport scipy.optimize as opt\nfrom sklearn import preprocessing\n%matplotlib inline \nimport matplotlib.pyplot as plt"
        }, 
        {
            "execution_count": 26, 
            "cell_type": "code", 
            "metadata": {}, 
            "outputs": [
                {
                    "execution_count": 26, 
                    "metadata": {}, 
                    "data": {
                        "text/plain": "['Loan ID',\n 'Customer ID',\n 'Loan Status',\n 'Current Loan Amount',\n 'Term',\n 'Credit Score',\n 'Annual Income',\n 'Years in current job',\n 'Home Ownership',\n 'Purpose',\n 'Monthly Debt',\n 'Years of Credit History',\n 'Months since last delinquent',\n 'Number of Open Accounts',\n 'Number of Credit Problems',\n 'Current Credit Balance',\n 'Maximum Open Credit',\n 'Bankruptcies',\n 'Tax Liens']"
                    }, 
                    "output_type": "execute_result"
                }
            ], 
            "source": "list(df_data_1)"
        }, 
        {
            "execution_count": 31, 
            "cell_type": "code", 
            "metadata": {}, 
            "outputs": [], 
            "source": "data = df_data_1[['Loan Status', 'Current Loan Amount', 'Term', 'Credit Score', 'Annual Income', 'Years in current job',  'Monthly Debt', 'Years of Credit History', 'Number of Open Accounts', 'Number of Credit Problems', 'Current Credit Balance', 'Maximum Open Credit']]"
        }, 
        {
            "execution_count": 34, 
            "cell_type": "code", 
            "metadata": {}, 
            "outputs": [
                {
                    "execution_count": 34, 
                    "metadata": {}, 
                    "data": {
                        "text/html": "<div>\n<style scoped>\n    .dataframe tbody tr th:only-of-type {\n        vertical-align: middle;\n    }\n\n    .dataframe tbody tr th {\n        vertical-align: top;\n    }\n\n    .dataframe thead th {\n        text-align: right;\n    }\n</style>\n<table border=\"1\" class=\"dataframe\">\n  <thead>\n    <tr style=\"text-align: right;\">\n      <th></th>\n      <th>Loan Status</th>\n      <th>Current Loan Amount</th>\n      <th>Term</th>\n      <th>Credit Score</th>\n      <th>Annual Income</th>\n      <th>Years in current job</th>\n      <th>Monthly Debt</th>\n      <th>Years of Credit History</th>\n      <th>Number of Open Accounts</th>\n      <th>Number of Credit Problems</th>\n      <th>Current Credit Balance</th>\n      <th>Maximum Open Credit</th>\n    </tr>\n  </thead>\n  <tbody>\n    <tr>\n      <th>0</th>\n      <td>Fully Paid</td>\n      <td>445412.0</td>\n      <td>Short Term</td>\n      <td>709.0</td>\n      <td>1167493.0</td>\n      <td>8 years</td>\n      <td>5214.74</td>\n      <td>17.2</td>\n      <td>6.0</td>\n      <td>1.0</td>\n      <td>228190.0</td>\n      <td>416746.0</td>\n    </tr>\n    <tr>\n      <th>2</th>\n      <td>Fully Paid</td>\n      <td>99999999.0</td>\n      <td>Short Term</td>\n      <td>741.0</td>\n      <td>2231892.0</td>\n      <td>8 years</td>\n      <td>29200.53</td>\n      <td>14.9</td>\n      <td>18.0</td>\n      <td>1.0</td>\n      <td>297996.0</td>\n      <td>750090.0</td>\n    </tr>\n    <tr>\n      <th>3</th>\n      <td>Fully Paid</td>\n      <td>347666.0</td>\n      <td>Long Term</td>\n      <td>721.0</td>\n      <td>806949.0</td>\n      <td>3 years</td>\n      <td>8741.90</td>\n      <td>12.0</td>\n      <td>9.0</td>\n      <td>0.0</td>\n      <td>256329.0</td>\n      <td>386958.0</td>\n    </tr>\n    <tr>\n      <th>5</th>\n      <td>Charged Off</td>\n      <td>206602.0</td>\n      <td>Short Term</td>\n      <td>7290.0</td>\n      <td>896857.0</td>\n      <td>10+ years</td>\n      <td>16367.74</td>\n      <td>17.3</td>\n      <td>6.0</td>\n      <td>0.0</td>\n      <td>215308.0</td>\n      <td>272448.0</td>\n    </tr>\n    <tr>\n      <th>6</th>\n      <td>Fully Paid</td>\n      <td>217646.0</td>\n      <td>Short Term</td>\n      <td>730.0</td>\n      <td>1184194.0</td>\n      <td>&lt; 1 year</td>\n      <td>10855.08</td>\n      <td>19.6</td>\n      <td>13.0</td>\n      <td>1.0</td>\n      <td>122170.0</td>\n      <td>272052.0</td>\n    </tr>\n  </tbody>\n</table>\n</div>", 
                        "text/plain": "   Loan Status  Current Loan Amount        Term  Credit Score  Annual Income  \\\n0   Fully Paid             445412.0  Short Term         709.0      1167493.0   \n2   Fully Paid           99999999.0  Short Term         741.0      2231892.0   \n3   Fully Paid             347666.0   Long Term         721.0       806949.0   \n5  Charged Off             206602.0  Short Term        7290.0       896857.0   \n6   Fully Paid             217646.0  Short Term         730.0      1184194.0   \n\n  Years in current job  Monthly Debt  Years of Credit History  \\\n0              8 years       5214.74                     17.2   \n2              8 years      29200.53                     14.9   \n3              3 years       8741.90                     12.0   \n5            10+ years      16367.74                     17.3   \n6             < 1 year      10855.08                     19.6   \n\n   Number of Open Accounts  Number of Credit Problems  Current Credit Balance  \\\n0                      6.0                        1.0                228190.0   \n2                     18.0                        1.0                297996.0   \n3                      9.0                        0.0                256329.0   \n5                      6.0                        0.0                215308.0   \n6                     13.0                        1.0                122170.0   \n\n   Maximum Open Credit  \n0             416746.0  \n2             750090.0  \n3             386958.0  \n5             272448.0  \n6             272052.0  "
                    }, 
                    "output_type": "execute_result"
                }
            ], 
            "source": "data = data.dropna()"
        }, 
        {
            "execution_count": 35, 
            "cell_type": "code", 
            "metadata": {}, 
            "outputs": [
                {
                    "execution_count": 35, 
                    "metadata": {}, 
                    "data": {
                        "text/plain": "Loan Status                  77433\nCurrent Loan Amount          77433\nTerm                         77433\nCredit Score                 77433\nAnnual Income                77433\nYears in current job         77433\nMonthly Debt                 77433\nYears of Credit History      77433\nNumber of Open Accounts      77433\nNumber of Credit Problems    77433\nCurrent Credit Balance       77433\nMaximum Open Credit          77433\ndtype: int64"
                    }, 
                    "output_type": "execute_result"
                }
            ], 
            "source": "data.count()"
        }, 
        {
            "execution_count": 63, 
            "cell_type": "code", 
            "metadata": {}, 
            "outputs": [], 
            "source": "data = data.replace('Fully Paid', 1)\ndata = data.replace('charged Off',0)"
        }, 
        {
            "execution_count": 64, 
            "cell_type": "code", 
            "metadata": {}, 
            "outputs": [], 
            "source": "data=data.replace('Short Term', 0.5)\ndata=data.replace('Long Term', 1)\ndata= data.replace('1 years', 1)\ndata= data.replace('1 year', 1)\ndata= data.replace('< 1 year', 0.9)\ndata= data.replace('2 years', 2)\ndata= data.replace('2 year', 2)\ndata= data.replace('3 years', 3)\ndata= data.replace('3 year', 3)\ndata= data.replace('4 years', 4)\ndata= data.replace('4 year', 4)\ndata= data.replace('5 years', 5)\ndata= data.replace('5 year', 5)\ndata= data.replace('6 years', 6)\ndata= data.replace('6 year', 6)\ndata= data.replace('7 years', 7)\ndata= data.replace('7 year', 7)\ndata= data.replace('8 years', 8)\ndata= data.replace('8 year', 8)\ndata= data.replace('9 years', 9)\ndata= data.replace('9 year', 9)\ndata= data.replace('10 years', 10)\ndata= data.replace('10 years', 10)\ndata= data.replace('10+ years', 11)"
        }, 
        {
            "execution_count": 69, 
            "cell_type": "code", 
            "metadata": {}, 
            "outputs": [], 
            "source": "import numpy as np\nimport scipy.optimize as opt\nfrom sklearn import preprocessing\n%matplotlib inline \nimport matplotlib.pyplot as plt"
        }, 
        {
            "execution_count": 70, 
            "cell_type": "code", 
            "metadata": {}, 
            "outputs": [], 
            "source": "x = np.asarray(data[['Current Loan Amount', 'Term', 'Credit Score', 'Annual Income', 'Years in current job',  'Monthly Debt', 'Years of Credit History', 'Number of Open Accounts', 'Number of Credit Problems', 'Current Credit Balance', 'Maximum Open Credit']])"
        }, 
        {
            "execution_count": 81, 
            "cell_type": "code", 
            "metadata": {}, 
            "outputs": [
                {
                    "execution_count": 81, 
                    "metadata": {}, 
                    "data": {
                        "text/plain": "(77433, 1)"
                    }, 
                    "output_type": "execute_result"
                }
            ], 
            "source": "y = np.asarray(data[['Loan Status']])\ny.shape"
        }, 
        {
            "execution_count": 76, 
            "cell_type": "code", 
            "metadata": {}, 
            "outputs": [], 
            "source": "x = preprocessing.StandardScaler().fit(x).transform(x)"
        }, 
        {
            "execution_count": 77, 
            "cell_type": "code", 
            "metadata": {}, 
            "outputs": [
                {
                    "output_type": "stream", 
                    "name": "stdout", 
                    "text": "Train set: (61946, 11) (61946, 1)\nTest set: (15487, 11) (15487, 1)\n"
                }
            ], 
            "source": "from sklearn.model_selection import train_test_split\nx_train, x_test, y_train, y_test = train_test_split( x, y, test_size=0.2, random_state=4)\nprint ('Train set:', x_train.shape,  y_train.shape)\nprint ('Test set:', x_test.shape,  y_test.shape)"
        }, 
        {
            "execution_count": 79, 
            "cell_type": "code", 
            "metadata": {}, 
            "outputs": [
                {
                    "output_type": "stream", 
                    "name": "stderr", 
                    "text": "/opt/conda/envs/DSX-Python35/lib/python3.5/site-packages/sklearn/utils/validation.py:578: DataConversionWarning: A column-vector y was passed when a 1d array was expected. Please change the shape of y to (n_samples, ), for example using ravel().\n  y = column_or_1d(y, warn=True)\n"
                }, 
                {
                    "ename": "ValueError", 
                    "evalue": "Unknown label type: 'unknown'", 
                    "traceback": [
                        "\u001b[0;31m---------------------------------------------------------------------------\u001b[0m", 
                        "\u001b[0;31mValueError\u001b[0m                                Traceback (most recent call last)", 
                        "\u001b[0;32m<ipython-input-79-4b9677d4c708>\u001b[0m in \u001b[0;36m<module>\u001b[0;34m()\u001b[0m\n\u001b[1;32m      1\u001b[0m \u001b[0;32mfrom\u001b[0m \u001b[0msklearn\u001b[0m\u001b[0;34m.\u001b[0m\u001b[0mlinear_model\u001b[0m \u001b[0;32mimport\u001b[0m \u001b[0mLogisticRegression\u001b[0m\u001b[0;34m\u001b[0m\u001b[0m\n\u001b[1;32m      2\u001b[0m \u001b[0;32mfrom\u001b[0m \u001b[0msklearn\u001b[0m\u001b[0;34m.\u001b[0m\u001b[0mmetrics\u001b[0m \u001b[0;32mimport\u001b[0m \u001b[0mconfusion_matrix\u001b[0m\u001b[0;34m\u001b[0m\u001b[0m\n\u001b[0;32m----> 3\u001b[0;31m \u001b[0mLR\u001b[0m \u001b[0;34m=\u001b[0m \u001b[0mLogisticRegression\u001b[0m\u001b[0;34m(\u001b[0m\u001b[0mC\u001b[0m\u001b[0;34m=\u001b[0m\u001b[0;36m0.01\u001b[0m\u001b[0;34m,\u001b[0m \u001b[0msolver\u001b[0m\u001b[0;34m=\u001b[0m\u001b[0;34m'liblinear'\u001b[0m\u001b[0;34m)\u001b[0m\u001b[0;34m.\u001b[0m\u001b[0mfit\u001b[0m\u001b[0;34m(\u001b[0m\u001b[0mx_train\u001b[0m\u001b[0;34m,\u001b[0m\u001b[0my_train\u001b[0m\u001b[0;34m)\u001b[0m\u001b[0;34m\u001b[0m\u001b[0m\n\u001b[0m\u001b[1;32m      4\u001b[0m \u001b[0mLR\u001b[0m\u001b[0;34m\u001b[0m\u001b[0m\n", 
                        "\u001b[0;32m/opt/conda/envs/DSX-Python35/lib/python3.5/site-packages/sklearn/linear_model/logistic.py\u001b[0m in \u001b[0;36mfit\u001b[0;34m(self, X, y, sample_weight)\u001b[0m\n\u001b[1;32m   1215\u001b[0m         X, y = check_X_y(X, y, accept_sparse='csr', dtype=_dtype,\n\u001b[1;32m   1216\u001b[0m                          order=\"C\")\n\u001b[0;32m-> 1217\u001b[0;31m         \u001b[0mcheck_classification_targets\u001b[0m\u001b[0;34m(\u001b[0m\u001b[0my\u001b[0m\u001b[0;34m)\u001b[0m\u001b[0;34m\u001b[0m\u001b[0m\n\u001b[0m\u001b[1;32m   1218\u001b[0m         \u001b[0mself\u001b[0m\u001b[0;34m.\u001b[0m\u001b[0mclasses_\u001b[0m \u001b[0;34m=\u001b[0m \u001b[0mnp\u001b[0m\u001b[0;34m.\u001b[0m\u001b[0munique\u001b[0m\u001b[0;34m(\u001b[0m\u001b[0my\u001b[0m\u001b[0;34m)\u001b[0m\u001b[0;34m\u001b[0m\u001b[0m\n\u001b[1;32m   1219\u001b[0m         \u001b[0mn_samples\u001b[0m\u001b[0;34m,\u001b[0m \u001b[0mn_features\u001b[0m \u001b[0;34m=\u001b[0m \u001b[0mX\u001b[0m\u001b[0;34m.\u001b[0m\u001b[0mshape\u001b[0m\u001b[0;34m\u001b[0m\u001b[0m\n", 
                        "\u001b[0;32m/opt/conda/envs/DSX-Python35/lib/python3.5/site-packages/sklearn/utils/multiclass.py\u001b[0m in \u001b[0;36mcheck_classification_targets\u001b[0;34m(y)\u001b[0m\n\u001b[1;32m    170\u001b[0m     if y_type not in ['binary', 'multiclass', 'multiclass-multioutput',\n\u001b[1;32m    171\u001b[0m                       'multilabel-indicator', 'multilabel-sequences']:\n\u001b[0;32m--> 172\u001b[0;31m         \u001b[0;32mraise\u001b[0m \u001b[0mValueError\u001b[0m\u001b[0;34m(\u001b[0m\u001b[0;34m\"Unknown label type: %r\"\u001b[0m \u001b[0;34m%\u001b[0m \u001b[0my_type\u001b[0m\u001b[0;34m)\u001b[0m\u001b[0;34m\u001b[0m\u001b[0m\n\u001b[0m\u001b[1;32m    173\u001b[0m \u001b[0;34m\u001b[0m\u001b[0m\n\u001b[1;32m    174\u001b[0m \u001b[0;34m\u001b[0m\u001b[0m\n", 
                        "\u001b[0;31mValueError\u001b[0m: Unknown label type: 'unknown'"
                    ], 
                    "output_type": "error"
                }
            ], 
            "source": "from sklearn.linear_model import LogisticRegression\nfrom sklearn.metrics import confusion_matrix\nLR = LogisticRegression(C=0.01, solver='liblinear').fit(x_train,y_train)\nLR"
        }
    ], 
    "metadata": {
        "kernelspec": {
            "display_name": "Python 3.5", 
            "name": "python3", 
            "language": "python"
        }, 
        "language_info": {
            "mimetype": "text/x-python", 
            "nbconvert_exporter": "python", 
            "version": "3.5.5", 
            "name": "python", 
            "file_extension": ".py", 
            "pygments_lexer": "ipython3", 
            "codemirror_mode": {
                "version": 3, 
                "name": "ipython"
            }
        }
    }, 
    "nbformat": 4
}